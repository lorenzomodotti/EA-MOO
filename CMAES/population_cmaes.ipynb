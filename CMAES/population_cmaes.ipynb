{
  "cells": [
    {
      "cell_type": "code",
      "execution_count": null,
      "source": [
        "from ..EA.population_elitist import PopulationElitist\r\n",
        "from numpy import sqrt\r\n",
        "\r\n",
        "class PopulationCMAES(PopulationElitist):\r\n",
        "\r\n",
        "    def __init__(self, l, treshold):\r\n",
        "        super().__init__()\r\n",
        "        self.l = l\r\n",
        "        self.treshold = treshold\r\n",
        "        self.target_success_rate = 1 / ( 5 + (sqrt(self.l)/2) )\r\n",
        "        self.delta = 1\r\n",
        "        self.evolution_rate = 0\r\n",
        "        self.covariance_rate = 0\r\n",
        "\r\n",
        "    def initialize(self, problem, N):\r\n",
        "        for i in range(N):\r\n",
        "            self.individuals.append(problem.generate_random_cmaes_individual(self.target_success_rate))\r\n",
        "        self.N = N\r\n",
        "        self.delta = 1 + (problem.d / 2*self.l)\r\n",
        "        self.evolution_rate = 2 / (2 + problem.d)\r\n",
        "        self.covariance_rate = 2 / (6 + problem.d**2)\r\n",
        "\r\n",
        "    def inherit_attributes(self, other):\r\n",
        "        self.l = other.l\r\n",
        "        self.target_success_rate = other.target_success_rate\r\n",
        "        self.delta = other.delta\r\n",
        "        self.treshold = other.treshold\r\n",
        "        self.evolution_rate = other.evolution_rate\r\n",
        "        self.covariance_rate = other.covariance_rate\r\n",
        "\r\n",
        "    \r\n",
        "        \r\n",
        "\r\n",
        "\r\n",
        "\r\n",
        "\r\n",
        "\r\n"
      ],
      "outputs": [],
      "metadata": {}
    }
  ],
  "metadata": {
    "anaconda-cloud": {},
    "kernelspec": {
      "display_name": "Python 3",
      "language": "python",
      "name": "python3"
    },
    "language_info": {
      "codemirror_mode": {
        "name": "ipython",
        "version": 3
      },
      "file_extension": ".py",
      "mimetype": "text/x-python",
      "name": "python",
      "nbconvert_exporter": "python",
      "pygments_lexer": "ipython3",
      "version": "3.6.1"
    }
  },
  "nbformat": 4,
  "nbformat_minor": 4
}