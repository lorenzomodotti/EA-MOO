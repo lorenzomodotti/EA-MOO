{
  "cells": [
    {
      "cell_type": "code",
      "metadata": {},
      "source": [
        "from .population_cmaes import PopulationCMAES\n",
        "\n",
        "def cmaes(problem, N, T, l=1, treshold=0.44):\n",
        "    P = PopulationCMAES(l, treshold)\n",
        "    P.initialize(problem, N)\n",
        "    for t in range(T):\n",
        "        children = []\n",
        "        for individual in P.individuals:\n",
        "            child = individual.clone()\n",
        "            child.mutate()\n",
        "            children.append(child)\n",
        "        P.append_many(children)\n",
        "        P.fastNondominatedSort()\n",
        "        P.crowdingDistanceSort()\n",
        "        for individual in P.individuals:\n",
        "            if individual.parent is None:\n",
        "                pass\n",
        "            else:\n",
        "                lambda_succ = int(individual.crowdedComparison(individual.parent)) / P.l\n",
        "                individual.parent.update_step_size(lambda_succ, P.target_success_rate, P.delta, P.l)\n",
        "                individual.update_step_size(lambda_succ, P.target_success_rate, P.delta, P.l)\n",
        "                step = (individual.coordinates - individual.parent.coordinates) / individual.parent.sigma\n",
        "                individual.update_covariance(step, P.treshold, P.evolution_rate, P.covariance_rate)\n",
        "                individual.set_parent(None)\n",
        "        Pnew = PopulationCMAES(l, treshold)\n",
        "        Pnew.inherit_attributes(P)\n",
        "        Pnew.elitist_selection(P, N)\n",
        "        P = Pnew\n",
        "    return P\n"
      ],
      "outputs": [],
      "execution_count": null
    }
  ],
  "metadata": {
    "anaconda-cloud": {},
    "kernelspec": {
      "display_name": "Python 3",
      "language": "python",
      "name": "python3"
    },
    "language_info": {
      "codemirror_mode": {
        "name": "ipython",
        "version": 3
      },
      "file_extension": ".py",
      "mimetype": "text/x-python",
      "name": "python",
      "nbconvert_exporter": "python",
      "pygments_lexer": "ipython3",
      "version": "3.6.1"
    }
  },
  "nbformat": 4,
  "nbformat_minor": 4
}