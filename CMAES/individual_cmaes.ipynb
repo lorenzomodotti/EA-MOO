{
  "cells": [
    {
      "cell_type": "code",
      "execution_count": null,
      "source": [
        "from ..EA.individual_elitist import IndividualElitist\r\n",
        "from numpy.random import multivariate_normal\r\n",
        "from numpy import exp, sqrt, outer, zeros, identity\r\n",
        "from copy import deepcopy\r\n",
        "\r\n",
        "class IndividualCMAES(IndividualElitist):\r\n",
        "\r\n",
        "    def __init__(self, problem, success_rate, sigma):\r\n",
        "        super().__init__(problem)\r\n",
        "        self.parent = None\r\n",
        "        self.success_rate = success_rate\r\n",
        "        self.sigma = sigma\r\n",
        "        self.evolution_path = zeros(problem.d)\r\n",
        "        self.C = identity(problem.d)\r\n",
        "\r\n",
        "    def set_parent(self, parent):\r\n",
        "        self.parent = parent\r\n",
        "\r\n",
        "    def clone(self):\r\n",
        "        child = IndividualCMAES(self.problem, self.success_rate, self.sigma)\r\n",
        "        child.coordinates = deepcopy(self.coordinates)\r\n",
        "        child.objectives = deepcopy(self.objectives)\r\n",
        "        child.parent = self\r\n",
        "        return child\r\n",
        "\r\n",
        "    def mutate(self):\r\n",
        "        self.coordinates = multivariate_normal(self.coordinates, (self.sigma**2)*self.C)\r\n",
        "        self.problem.check_coordinates(self.coordinates)\r\n",
        "        self.evaluate_objectives()\r\n",
        "        self.reset_sorting_attributes()\r\n",
        "\r\n",
        "    def update_step_size(self, success_rate, target_success_rate, delta, l):\r\n",
        "        learning_rate = (l*target_success_rate) / (2 + l*target_success_rate)\r\n",
        "        self.success_rate = (1-learning_rate)*self.success_rate + learning_rate*success_rate\r\n",
        "        self.sigma = self.sigma * exp( (self.success_rate-target_success_rate) / (delta * (1-target_success_rate)) )\r\n",
        "\r\n",
        "    def update_covariance(self, step, treshold, evolution_rate, covariance_rate):\r\n",
        "        if self.success_rate < treshold:\r\n",
        "            self.evolution_path = (1-evolution_rate) * self.evolution_path + sqrt(evolution_rate*(2-evolution_rate)) * step\r\n",
        "            self.C = (1-covariance_rate) * self.C + covariance_rate * outer(self.evolution_path, self.evolution_path)\r\n",
        "        else:\r\n",
        "            self.evolution_path = (1-evolution_rate) * self.evolution_path\r\n",
        "            self.C = (1-covariance_rate) * self.C + covariance_rate * ( outer(self.evolution_path, self.evolution_path) + evolution_rate*(2-evolution_rate) * self.C )\r\n",
        "\r\n",
        "    def __str__(self):\r\n",
        "        print(\"Rank:\", self.rank, \"\\tCrowding distance:\", self.crowding_distance, \"\\tParent:\", self.parent.__repr__())\r\n",
        "        print(\"Success rate:\", self.success_rate, \"\\tSigma: \", self.sigma)\r\n",
        "        print(\"Evolution path [0:3]:\", self.evolution_path[0:3], \"\\nC [0:3,0:3]: \")\r\n",
        "        print(self.C[0:3,0:3])\r\n",
        "        print(\"f\", self.coordinates, \" = \", self.objectives)"
      ],
      "outputs": [],
      "metadata": {}
    }
  ],
  "metadata": {
    "anaconda-cloud": {},
    "kernelspec": {
      "display_name": "Python 3",
      "language": "python",
      "name": "python3"
    },
    "language_info": {
      "codemirror_mode": {
        "name": "ipython",
        "version": 3
      },
      "file_extension": ".py",
      "mimetype": "text/x-python",
      "name": "python",
      "nbconvert_exporter": "python",
      "pygments_lexer": "ipython3",
      "version": "3.6.1"
    }
  },
  "nbformat": 4,
  "nbformat_minor": 4
}