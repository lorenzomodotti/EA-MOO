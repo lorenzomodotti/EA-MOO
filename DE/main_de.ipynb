{
  "cells": [
    {
      "cell_type": "code",
      "execution_count": null,
      "source": [
        "from ..EA.population import Population\r\n",
        "from numpy.random import choice, rand\r\n",
        "\r\n",
        "def de(problem, N, T, F, CR):\r\n",
        "    P = Population()\r\n",
        "    P.initialize(problem, N)\r\n",
        "    for t in range(T):\r\n",
        "        Pnew = Population()\r\n",
        "        for x in P.individuals:\r\n",
        "            while True:\r\n",
        "                a, b, c = choice(P.individuals, 3, replace=False)\r\n",
        "                if not (x==a or x==b or x==c):\r\n",
        "                    break\r\n",
        "            coordinates = []\r\n",
        "            for i in range(problem.d):\r\n",
        "                if rand()<CR or i==problem.d:\r\n",
        "                    coordinates.append(c.coordinates[i] + F*(a.coordinates[i]-b.coordinates[i]))\r\n",
        "                else:\r\n",
        "                    coordinates.append(x.coordinates[i])\r\n",
        "            y = problem.generate_individual(coordinates)\r\n",
        "            if x.dominates(y):\r\n",
        "                Pnew.append(x)\r\n",
        "            elif y.dominates(x):\r\n",
        "                Pnew.append(y)\r\n",
        "            else:\r\n",
        "                Pnew.append(choice([x,y]))\r\n",
        "        P = Pnew\r\n",
        "    return P\r\n"
      ],
      "outputs": [],
      "metadata": {}
    }
  ],
  "metadata": {
    "anaconda-cloud": {},
    "kernelspec": {
      "display_name": "Python 3",
      "language": "python",
      "name": "python3"
    },
    "language_info": {
      "codemirror_mode": {
        "name": "ipython",
        "version": 3
      },
      "file_extension": ".py",
      "mimetype": "text/x-python",
      "name": "python",
      "nbconvert_exporter": "python",
      "pygments_lexer": "ipython3",
      "version": "3.6.1"
    }
  },
  "nbformat": 4,
  "nbformat_minor": 4
}