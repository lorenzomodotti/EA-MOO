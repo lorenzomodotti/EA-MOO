{
  "cells": [
    {
      "cell_type": "code",
      "metadata": {},
      "source": [
        "from .population_nsga2 import PopulationNSGA2\n",
        "\n",
        "def nsga2(problem, N, T, crossover_probability, crossover_index, mutation_probability, mutation_index):\n",
        "    P = PopulationNSGA2(crossover_probability, crossover_index, mutation_probability, mutation_index)\n",
        "    P.initialize(problem, N)\n",
        "    for t in range(T):\n",
        "        Q = P.offspringGeneration()\n",
        "        R = P.merge(Q)\n",
        "        R.fastNondominatedSort()\n",
        "        Pnew = PopulationNSGA2(crossover_probability, crossover_index, mutation_probability, mutation_index)\n",
        "        Pnew.elitist_selection(R, N)\n",
        "        P = Pnew\n",
        "    return P\n"
      ],
      "outputs": [],
      "execution_count": null
    }
  ],
  "metadata": {
    "anaconda-cloud": {},
    "kernelspec": {
      "display_name": "Python 3",
      "language": "python",
      "name": "python3"
    },
    "language_info": {
      "codemirror_mode": {
        "name": "ipython",
        "version": 3
      },
      "file_extension": ".py",
      "mimetype": "text/x-python",
      "name": "python",
      "nbconvert_exporter": "python",
      "pygments_lexer": "ipython3",
      "version": "3.6.1"
    }
  },
  "nbformat": 4,
  "nbformat_minor": 4
}