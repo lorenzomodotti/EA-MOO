{
  "cells": [
    {
      "cell_type": "code",
      "execution_count": null,
      "source": [
        "from ..EA.individual_elitist import IndividualElitist\r\n",
        "from numpy.random import rand\r\n",
        "\r\n",
        "class IndividualNSGA2(IndividualElitist):\r\n",
        "\r\n",
        "    def __init__(self, problem):\r\n",
        "        super().__init__(problem)\r\n",
        "\r\n",
        "    def polynomialMutation(self, mutation_index):\r\n",
        "        eta = mutation_index + 1\r\n",
        "        for j in range(self.problem.d):\r\n",
        "            normalization_constant = self.problem.boundaries[j][1] - self.problem.boundaries[j][0]\r\n",
        "            if normalization_constant == 0:\r\n",
        "                normalization_constant = 1\r\n",
        "            alpha = min(self.coordinates[j]-self.problem.boundaries[j][0], self.problem.boundaries[j][1]-self.coordinates[j]) / normalization_constant\r\n",
        "            u = rand()\r\n",
        "            if u <= 0.5:\r\n",
        "                delta = ( 2*u + (1-2*u)*(1-alpha)**eta )**(1/eta) - 1\r\n",
        "            else:\r\n",
        "                delta = 1 - ( 2*(1-u) + 2*(u-0.5)*(1-alpha)**eta )**(1/eta)\r\n",
        "            self.coordinates[j] += delta * normalization_constant\r\n",
        "        self.problem.check_coordinates(self.coordinates)\r\n",
        "        self.evaluate_objectives()\r\n",
        "        self.reset_sorting_attributes()\r\n"
      ],
      "outputs": [],
      "metadata": {}
    }
  ],
  "metadata": {
    "anaconda-cloud": {},
    "kernelspec": {
      "display_name": "Python 3",
      "language": "python",
      "name": "python3"
    },
    "language_info": {
      "codemirror_mode": {
        "name": "ipython",
        "version": 3
      },
      "file_extension": ".py",
      "mimetype": "text/x-python",
      "name": "python",
      "nbconvert_exporter": "python",
      "pygments_lexer": "ipython3",
      "version": "3.6.1"
    }
  },
  "nbformat": 4,
  "nbformat_minor": 4
}