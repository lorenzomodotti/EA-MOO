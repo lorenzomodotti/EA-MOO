{
  "cells": [
    {
      "cell_type": "code",
      "metadata": {},
      "source": [
        "class Population():\n",
        "\n",
        "    def __init__(self):\n",
        "        self.N = 0\n",
        "        self.individuals = []\n",
        "\n",
        "    def __len__(self):\n",
        "        return self.N\n",
        "    \n",
        "    def initialize(self, problem, N):\n",
        "        for i in range(N):\n",
        "            self.individuals.append(problem.generate_random_individual())\n",
        "        self.N = N\n",
        "\n",
        "    def append(self, individual):\n",
        "        self.individuals.append(individual)\n",
        "        self.N += 1\n",
        "\n",
        "    def append_many(self, individuals):\n",
        "        self.individuals.extend(individuals)\n",
        "        self.N += len(individuals)\n",
        "\n",
        "    def pareto_front(self):\n",
        "        m = self.individuals[0].problem.m\n",
        "        front = []\n",
        "        for j in range(m):\n",
        "            f = []\n",
        "            for individual in self.individuals:\n",
        "                f.append(individual.objectives[j])\n",
        "            front.append(f)\n",
        "        return front\n",
        "\n",
        "    def __str__(self):\n",
        "        print(\"Population size:\", self.N)\n",
        "        print(\"Individuals:\")\n",
        "        for individual in self.individuals:\n",
        "            individual.__str__()"
      ],
      "outputs": [],
      "execution_count": null
    }
  ],
  "metadata": {
    "anaconda-cloud": {},
    "kernelspec": {
      "display_name": "Python 3",
      "language": "python",
      "name": "python3"
    },
    "language_info": {
      "codemirror_mode": {
        "name": "ipython",
        "version": 3
      },
      "file_extension": ".py",
      "mimetype": "text/x-python",
      "name": "python",
      "nbconvert_exporter": "python",
      "pygments_lexer": "ipython3",
      "version": "3.6.1"
    }
  },
  "nbformat": 4,
  "nbformat_minor": 4
}