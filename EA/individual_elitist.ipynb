{
  "cells": [
    {
      "cell_type": "code",
      "metadata": {},
      "source": [
        "from .individual import Individual\n",
        "\n",
        "class IndividualElitist(Individual):\n",
        "\n",
        "    def __init__(self, problem):\n",
        "        super().__init__(problem)\n",
        "        self.rank = 0\n",
        "        self.crowding_distance = 0\n",
        "        self.domination_count = 0\n",
        "        self.dominated_solutions = []\n",
        "\n",
        "    def reset_sorting_attributes(self):\n",
        "        self.rank = 0\n",
        "        self.crowding_distance = 0\n",
        "        self.domination_count = 0\n",
        "        self.dominated_solutions = []\n",
        "\n",
        "    def crowdedComparison(self, other):\n",
        "        if self.rank < other.rank:\n",
        "            return True\n",
        "        elif self.rank == other.rank and self.crowding_distance > other.crowding_distance:\n",
        "            return True\n",
        "        else:\n",
        "            return False\n",
        "\n",
        "    def __str__(self):\n",
        "        print(\"Rank: \", self.rank, \"\\tCrowding distance:\", self.crowding_distance)\n",
        "        print(\"f\", self.coordinates, \" = \", self.objectives)\n"
      ],
      "outputs": [],
      "execution_count": null
    }
  ],
  "metadata": {
    "anaconda-cloud": {},
    "kernelspec": {
      "display_name": "Python 3",
      "language": "python",
      "name": "python3"
    },
    "language_info": {
      "codemirror_mode": {
        "name": "ipython",
        "version": 3
      },
      "file_extension": ".py",
      "mimetype": "text/x-python",
      "name": "python",
      "nbconvert_exporter": "python",
      "pygments_lexer": "ipython3",
      "version": "3.6.1"
    }
  },
  "nbformat": 4,
  "nbformat_minor": 4
}