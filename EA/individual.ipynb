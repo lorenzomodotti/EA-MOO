{
  "cells": [
    {
      "cell_type": "code",
      "metadata": {},
      "source": [
        "class Individual():\n",
        "\n",
        "    def __init__(self, problem):\n",
        "        self.coordinates = []\n",
        "        self.objectives = []\n",
        "        self.problem = problem\n",
        "\n",
        "    def __eq__(self, other):\n",
        "        return self.coordinates == other.coordinates\n",
        "\n",
        "    def evaluate_objectives(self):\n",
        "        self.objectives = [f(self.coordinates) for f in self.problem.objective_functions]\n",
        "\n",
        "    def dominates(self, other):\n",
        "        condition = False\n",
        "        for ob1, ob2 in zip(self.objectives, other.objectives):\n",
        "            if ob2 < ob1:\n",
        "                return False\n",
        "            if ob1 < ob2:\n",
        "                condition = True\n",
        "        return condition\n",
        "\n",
        "    def __str__(self):\n",
        "        print(\"f\", self.coordinates, \" = \", self.objectives)"
      ],
      "outputs": [],
      "execution_count": null
    }
  ],
  "metadata": {
    "anaconda-cloud": {},
    "kernelspec": {
      "display_name": "Python 3",
      "language": "python",
      "name": "python3"
    },
    "language_info": {
      "codemirror_mode": {
        "name": "ipython",
        "version": 3
      },
      "file_extension": ".py",
      "mimetype": "text/x-python",
      "name": "python",
      "nbconvert_exporter": "python",
      "pygments_lexer": "ipython3",
      "version": "3.6.1"
    }
  },
  "nbformat": 4,
  "nbformat_minor": 4
}